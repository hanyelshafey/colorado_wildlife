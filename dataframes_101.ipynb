{
 "cells": [
  {
   "cell_type": "markdown",
   "metadata": {},
   "source": [
    "# DataFrames 101\n",
    "\n",
    "## Selecting subsets"
   ]
  },
  {
   "cell_type": "code",
   "execution_count": 1,
   "metadata": {
    "scrolled": true
   },
   "outputs": [
    {
     "name": "stderr",
     "output_type": "stream",
     "text": [
      "/media/hany/Soft/python/data science/spatial data science/wildlife/lib/python3.8/site-packages/geopandas/_compat.py:106: UserWarning: The Shapely GEOS version (3.8.0-CAPI-1.13.1 ) is incompatible with the GEOS version PyGEOS was compiled with (3.9.1-CAPI-1.14.2). Conversions between both will be slow.\n",
      "  warnings.warn(\n"
     ]
    }
   ],
   "source": [
    "%matplotlib inline\n",
    "import geopandas as gpd"
   ]
  },
  {
   "cell_type": "markdown",
   "metadata": {},
   "source": [
    "## Referencing series (columns, fields, series, attributes, properties)\n",
    "\n",
    "Method 1 - dot notation\n",
    "\n",
    "    df.fieldname\n",
    "\n",
    "Method 2 - bracket notation\n",
    "\n",
    "    df['fieldname']\n",
    "    \n",
    "We will be using bracket notation for this course.  I think dot natation is confusing because it could be misinterpreted as a method or property.  Also you can't use variables to refer to column names which limit their usefulness."
   ]
  },
  {
   "cell_type": "code",
   "execution_count": 2,
   "metadata": {
    "scrolled": true
   },
   "outputs": [
    {
     "data": {
      "text/plain": [
       "0        Swainsons Hawk\n",
       "1        Swainsons Hawk\n",
       "2        Swainsons Hawk\n",
       "3        Swainsons Hawk\n",
       "4        Swainsons Hawk\n",
       "             ...       \n",
       "874       Red-tail Hawk\n",
       "875       Red-tail Hawk\n",
       "876    Northern Harrier\n",
       "877                SWHA\n",
       "878                RTHA\n",
       "Name: recentspec, Length: 879, dtype: object"
      ]
     },
     "execution_count": 2,
     "metadata": {},
     "output_type": "execute_result"
    }
   ],
   "source": [
    "raptors = gpd.read_file(\"data/Raptor_Nests.shp\")\n",
    "raptors.recentspec"
   ]
  },
  {
   "cell_type": "code",
   "execution_count": 3,
   "metadata": {
    "scrolled": true
   },
   "outputs": [
    {
     "data": {
      "text/plain": [
       "0        Swainsons Hawk\n",
       "1        Swainsons Hawk\n",
       "2        Swainsons Hawk\n",
       "3        Swainsons Hawk\n",
       "4        Swainsons Hawk\n",
       "             ...       \n",
       "874       Red-tail Hawk\n",
       "875       Red-tail Hawk\n",
       "876    Northern Harrier\n",
       "877                SWHA\n",
       "878                RTHA\n",
       "Name: recentspec, Length: 879, dtype: object"
      ]
     },
     "execution_count": 3,
     "metadata": {},
     "output_type": "execute_result"
    }
   ],
   "source": [
    "raptors['recentspec']"
   ]
  },
  {
   "cell_type": "markdown",
   "metadata": {},
   "source": [
    "You can refer to a column using a variable with bracket notation"
   ]
  },
  {
   "cell_type": "code",
   "execution_count": 4,
   "metadata": {
    "scrolled": true
   },
   "outputs": [
    {
     "data": {
      "text/plain": [
       "0      INACTIVE NEST\n",
       "1      INACTIVE NEST\n",
       "2      INACTIVE NEST\n",
       "3      INACTIVE NEST\n",
       "4        ACTIVE NEST\n",
       "           ...      \n",
       "874    INACTIVE NEST\n",
       "875    INACTIVE NEST\n",
       "876    INACTIVE NEST\n",
       "877    INACTIVE NEST\n",
       "878     FLEDGED NEST\n",
       "Name: recentstat, Length: 879, dtype: object"
      ]
     },
     "execution_count": 4,
     "metadata": {},
     "output_type": "execute_result"
    }
   ],
   "source": [
    "fldname = 'recentstat'\n",
    "raptors[fldname]"
   ]
  },
  {
   "cell_type": "markdown",
   "metadata": {},
   "source": [
    "But you can't use a variable with dot notation"
   ]
  },
  {
   "cell_type": "code",
   "execution_count": 5,
   "metadata": {
    "scrolled": true
   },
   "outputs": [
    {
     "ename": "AttributeError",
     "evalue": "'GeoDataFrame' object has no attribute 'fldname'",
     "output_type": "error",
     "traceback": [
      "\u001b[0;31m---------------------------------------------------------------------------\u001b[0m",
      "\u001b[0;31mAttributeError\u001b[0m                            Traceback (most recent call last)",
      "\u001b[0;32m<ipython-input-5-39a6abc45ac7>\u001b[0m in \u001b[0;36m<module>\u001b[0;34m\u001b[0m\n\u001b[0;32m----> 1\u001b[0;31m \u001b[0mraptors\u001b[0m\u001b[0;34m.\u001b[0m\u001b[0mfldname\u001b[0m\u001b[0;34m\u001b[0m\u001b[0;34m\u001b[0m\u001b[0m\n\u001b[0m",
      "\u001b[0;32m/media/hany/Soft/python/data science/spatial data science/wildlife/lib/python3.8/site-packages/pandas/core/generic.py\u001b[0m in \u001b[0;36m__getattr__\u001b[0;34m(self, name)\u001b[0m\n\u001b[1;32m   5463\u001b[0m             \u001b[0;32mif\u001b[0m \u001b[0mself\u001b[0m\u001b[0;34m.\u001b[0m\u001b[0m_info_axis\u001b[0m\u001b[0;34m.\u001b[0m\u001b[0m_can_hold_identifiers_and_holds_name\u001b[0m\u001b[0;34m(\u001b[0m\u001b[0mname\u001b[0m\u001b[0;34m)\u001b[0m\u001b[0;34m:\u001b[0m\u001b[0;34m\u001b[0m\u001b[0;34m\u001b[0m\u001b[0m\n\u001b[1;32m   5464\u001b[0m                 \u001b[0;32mreturn\u001b[0m \u001b[0mself\u001b[0m\u001b[0;34m[\u001b[0m\u001b[0mname\u001b[0m\u001b[0;34m]\u001b[0m\u001b[0;34m\u001b[0m\u001b[0;34m\u001b[0m\u001b[0m\n\u001b[0;32m-> 5465\u001b[0;31m             \u001b[0;32mreturn\u001b[0m \u001b[0mobject\u001b[0m\u001b[0;34m.\u001b[0m\u001b[0m__getattribute__\u001b[0m\u001b[0;34m(\u001b[0m\u001b[0mself\u001b[0m\u001b[0;34m,\u001b[0m \u001b[0mname\u001b[0m\u001b[0;34m)\u001b[0m\u001b[0;34m\u001b[0m\u001b[0;34m\u001b[0m\u001b[0m\n\u001b[0m\u001b[1;32m   5466\u001b[0m \u001b[0;34m\u001b[0m\u001b[0m\n\u001b[1;32m   5467\u001b[0m     \u001b[0;32mdef\u001b[0m \u001b[0m__setattr__\u001b[0m\u001b[0;34m(\u001b[0m\u001b[0mself\u001b[0m\u001b[0;34m,\u001b[0m \u001b[0mname\u001b[0m\u001b[0;34m:\u001b[0m \u001b[0mstr\u001b[0m\u001b[0;34m,\u001b[0m \u001b[0mvalue\u001b[0m\u001b[0;34m)\u001b[0m \u001b[0;34m->\u001b[0m \u001b[0;32mNone\u001b[0m\u001b[0;34m:\u001b[0m\u001b[0;34m\u001b[0m\u001b[0;34m\u001b[0m\u001b[0m\n",
      "\u001b[0;31mAttributeError\u001b[0m: 'GeoDataFrame' object has no attribute 'fldname'"
     ]
    }
   ],
   "source": [
    "raptors.fldname"
   ]
  },
  {
   "cell_type": "markdown",
   "metadata": {},
   "source": [
    "You can get a list of column names using the dataframes columns attribute"
   ]
  },
  {
   "cell_type": "code",
   "execution_count": null,
   "metadata": {
    "scrolled": true
   },
   "outputs": [],
   "source": [
    "raptors.columns"
   ]
  },
  {
   "cell_type": "markdown",
   "metadata": {},
   "source": [
    "And knowing this we can loop through the columns and print out the unique values for all string columns that have less than 20 unique values with just a few lines of code"
   ]
  },
  {
   "cell_type": "code",
   "execution_count": null,
   "metadata": {
    "scrolled": true
   },
   "outputs": [],
   "source": [
    "for fld in raptors.columns:\n",
    "    if raptors[fld].dtype == 'object' and raptors[fld].nunique()<20:\n",
    "        print(raptors[fld].name, raptors[fld].unique())"
   ]
  },
  {
   "cell_type": "markdown",
   "metadata": {},
   "source": [
    "### Subset of columns"
   ]
  },
  {
   "cell_type": "code",
   "execution_count": null,
   "metadata": {
    "scrolled": true
   },
   "outputs": [],
   "source": [
    "raptors.head()"
   ]
  },
  {
   "cell_type": "code",
   "execution_count": null,
   "metadata": {
    "scrolled": true
   },
   "outputs": [],
   "source": [
    "raptor_cols = raptors[[\"Nest_ID\", \"recentspec\", \"recentstat\", \"lastsurvey\", 'geometry']]\n",
    "raptor_cols.tail()"
   ]
  },
  {
   "cell_type": "code",
   "execution_count": null,
   "metadata": {},
   "outputs": [],
   "source": [
    "%whos"
   ]
  },
  {
   "cell_type": "markdown",
   "metadata": {},
   "source": [
    "### Subset by attributes (multiple condition)\n",
    "\n",
    "* Wrap each condition in parentheses\n",
    "* Use & and | rather than **and** and **or**"
   ]
  },
  {
   "cell_type": "code",
   "execution_count": 7,
   "metadata": {
    "scrolled": true
   },
   "outputs": [
    {
     "data": {
      "text/html": [
       "<div>\n",
       "<style scoped>\n",
       "    .dataframe tbody tr th:only-of-type {\n",
       "        vertical-align: middle;\n",
       "    }\n",
       "\n",
       "    .dataframe tbody tr th {\n",
       "        vertical-align: top;\n",
       "    }\n",
       "\n",
       "    .dataframe thead th {\n",
       "        text-align: right;\n",
       "    }\n",
       "</style>\n",
       "<table border=\"1\" class=\"dataframe\">\n",
       "  <thead>\n",
       "    <tr style=\"text-align: right;\">\n",
       "      <th></th>\n",
       "      <th>postgis_fi</th>\n",
       "      <th>lat_y_dd</th>\n",
       "      <th>long_x_dd</th>\n",
       "      <th>lastsurvey</th>\n",
       "      <th>recentspec</th>\n",
       "      <th>recentstat</th>\n",
       "      <th>Nest_ID</th>\n",
       "      <th>geometry</th>\n",
       "    </tr>\n",
       "  </thead>\n",
       "  <tbody>\n",
       "    <tr>\n",
       "      <th>0</th>\n",
       "      <td>361.0</td>\n",
       "      <td>40.267502</td>\n",
       "      <td>-104.870872</td>\n",
       "      <td>2012-03-16</td>\n",
       "      <td>Swainsons Hawk</td>\n",
       "      <td>INACTIVE NEST</td>\n",
       "      <td>361</td>\n",
       "      <td>POINT (-104.79595 40.29891)</td>\n",
       "    </tr>\n",
       "    <tr>\n",
       "      <th>1</th>\n",
       "      <td>362.0</td>\n",
       "      <td>40.264321</td>\n",
       "      <td>-104.860255</td>\n",
       "      <td>2012-03-16</td>\n",
       "      <td>Swainsons Hawk</td>\n",
       "      <td>INACTIVE NEST</td>\n",
       "      <td>362</td>\n",
       "      <td>POINT (-104.78897 40.22089)</td>\n",
       "    </tr>\n",
       "    <tr>\n",
       "      <th>2</th>\n",
       "      <td>1.0</td>\n",
       "      <td>38.650081</td>\n",
       "      <td>-105.494251</td>\n",
       "      <td>2014-07-28</td>\n",
       "      <td>Swainsons Hawk</td>\n",
       "      <td>INACTIVE NEST</td>\n",
       "      <td>1</td>\n",
       "      <td>POINT (-105.50223 38.68694)</td>\n",
       "    </tr>\n",
       "    <tr>\n",
       "      <th>3</th>\n",
       "      <td>2.0</td>\n",
       "      <td>40.309574</td>\n",
       "      <td>-104.932604</td>\n",
       "      <td>2011-01-06</td>\n",
       "      <td>Swainsons Hawk</td>\n",
       "      <td>INACTIVE NEST</td>\n",
       "      <td>2</td>\n",
       "      <td>POINT (-104.84889 40.35215)</td>\n",
       "    </tr>\n",
       "    <tr>\n",
       "      <th>4</th>\n",
       "      <td>3.0</td>\n",
       "      <td>40.219343</td>\n",
       "      <td>-104.729246</td>\n",
       "      <td>2014-07-03</td>\n",
       "      <td>Swainsons Hawk</td>\n",
       "      <td>ACTIVE NEST</td>\n",
       "      <td>3</td>\n",
       "      <td>POINT (-104.74466 40.18571)</td>\n",
       "    </tr>\n",
       "    <tr>\n",
       "      <th>...</th>\n",
       "      <td>...</td>\n",
       "      <td>...</td>\n",
       "      <td>...</td>\n",
       "      <td>...</td>\n",
       "      <td>...</td>\n",
       "      <td>...</td>\n",
       "      <td>...</td>\n",
       "      <td>...</td>\n",
       "    </tr>\n",
       "    <tr>\n",
       "      <th>860</th>\n",
       "      <td>897.0</td>\n",
       "      <td>40.417061</td>\n",
       "      <td>-104.800156</td>\n",
       "      <td>2015-07-07</td>\n",
       "      <td>Red-tail Hawk</td>\n",
       "      <td>ACTIVE NEST</td>\n",
       "      <td>897</td>\n",
       "      <td>POINT (-104.72328 40.47858)</td>\n",
       "    </tr>\n",
       "    <tr>\n",
       "      <th>862</th>\n",
       "      <td>899.0</td>\n",
       "      <td>40.187254</td>\n",
       "      <td>-105.005608</td>\n",
       "      <td>2015-07-10</td>\n",
       "      <td>Swainsons Hawk</td>\n",
       "      <td>INACTIVE NEST</td>\n",
       "      <td>899</td>\n",
       "      <td>POINT (-104.97637 40.14121)</td>\n",
       "    </tr>\n",
       "    <tr>\n",
       "      <th>863</th>\n",
       "      <td>900.0</td>\n",
       "      <td>40.169258</td>\n",
       "      <td>-104.889567</td>\n",
       "      <td>2015-07-13</td>\n",
       "      <td>Swainsons Hawk</td>\n",
       "      <td>INACTIVE NEST</td>\n",
       "      <td>900</td>\n",
       "      <td>POINT (-104.90353 40.23230)</td>\n",
       "    </tr>\n",
       "    <tr>\n",
       "      <th>865</th>\n",
       "      <td>902.0</td>\n",
       "      <td>40.045190</td>\n",
       "      <td>-104.727397</td>\n",
       "      <td>2015-08-14</td>\n",
       "      <td>Swainsons Hawk</td>\n",
       "      <td>INACTIVE NEST</td>\n",
       "      <td>902</td>\n",
       "      <td>POINT (-104.63442 40.00987)</td>\n",
       "    </tr>\n",
       "    <tr>\n",
       "      <th>872</th>\n",
       "      <td>909.0</td>\n",
       "      <td>39.999138</td>\n",
       "      <td>-104.899116</td>\n",
       "      <td>2015-08-18</td>\n",
       "      <td>Swainsons Hawk</td>\n",
       "      <td>INACTIVE NEST</td>\n",
       "      <td>909</td>\n",
       "      <td>POINT (-104.91958 40.00116)</td>\n",
       "    </tr>\n",
       "  </tbody>\n",
       "</table>\n",
       "<p>519 rows × 8 columns</p>\n",
       "</div>"
      ],
      "text/plain": [
       "     postgis_fi   lat_y_dd   long_x_dd  lastsurvey      recentspec  \\\n",
       "0         361.0  40.267502 -104.870872  2012-03-16  Swainsons Hawk   \n",
       "1         362.0  40.264321 -104.860255  2012-03-16  Swainsons Hawk   \n",
       "2           1.0  38.650081 -105.494251  2014-07-28  Swainsons Hawk   \n",
       "3           2.0  40.309574 -104.932604  2011-01-06  Swainsons Hawk   \n",
       "4           3.0  40.219343 -104.729246  2014-07-03  Swainsons Hawk   \n",
       "..          ...        ...         ...         ...             ...   \n",
       "860       897.0  40.417061 -104.800156  2015-07-07   Red-tail Hawk   \n",
       "862       899.0  40.187254 -105.005608  2015-07-10  Swainsons Hawk   \n",
       "863       900.0  40.169258 -104.889567  2015-07-13  Swainsons Hawk   \n",
       "865       902.0  40.045190 -104.727397  2015-08-14  Swainsons Hawk   \n",
       "872       909.0  39.999138 -104.899116  2015-08-18  Swainsons Hawk   \n",
       "\n",
       "        recentstat  Nest_ID                     geometry  \n",
       "0    INACTIVE NEST      361  POINT (-104.79595 40.29891)  \n",
       "1    INACTIVE NEST      362  POINT (-104.78897 40.22089)  \n",
       "2    INACTIVE NEST        1  POINT (-105.50223 38.68694)  \n",
       "3    INACTIVE NEST        2  POINT (-104.84889 40.35215)  \n",
       "4      ACTIVE NEST        3  POINT (-104.74466 40.18571)  \n",
       "..             ...      ...                          ...  \n",
       "860    ACTIVE NEST      897  POINT (-104.72328 40.47858)  \n",
       "862  INACTIVE NEST      899  POINT (-104.97637 40.14121)  \n",
       "863  INACTIVE NEST      900  POINT (-104.90353 40.23230)  \n",
       "865  INACTIVE NEST      902  POINT (-104.63442 40.00987)  \n",
       "872  INACTIVE NEST      909  POINT (-104.91958 40.00116)  \n",
       "\n",
       "[519 rows x 8 columns]"
      ]
     },
     "execution_count": 7,
     "metadata": {},
     "output_type": "execute_result"
    }
   ],
   "source": [
    "raptors[(raptors['recentstat']=='ACTIVE NEST') | (raptors['recentspec']=='Swainsons Hawk')]"
   ]
  },
  {
   "cell_type": "markdown",
   "metadata": {},
   "source": [
    "### Subset by coordinates\n",
    "\n",
    "bounding box using python slice notation"
   ]
  },
  {
   "cell_type": "code",
   "execution_count": 8,
   "metadata": {
    "scrolled": true
   },
   "outputs": [
    {
     "data": {
      "text/plain": [
       "<AxesSubplot:>"
      ]
     },
     "execution_count": 8,
     "metadata": {},
     "output_type": "execute_result"
    },
    {
     "data": {
      "image/png": "[encoded data removed]",
      "text/plain": [
       "<Figure size 432x288 with 1 Axes>"
      ]
     },
     "metadata": {
      "needs_background": "light"
     },
     "output_type": "display_data"
    }
   ],
   "source": [
    "raptors.plot()"
   ]
  },
  {
   "cell_type": "code",
   "execution_count": 9,
   "metadata": {
    "scrolled": true
   },
   "outputs": [
    {
     "data": {
      "text/plain": [
       "<AxesSubplot:>"
      ]
     },
     "execution_count": 9,
     "metadata": {},
     "output_type": "execute_result"
    },
    {
     "data": {
      "image/png": "[encoded data removed]",
      "text/plain": [
       "<Figure size 432x288 with 1 Axes>"
      ]
     },
     "metadata": {
      "needs_background": "light"
     },
     "output_type": "display_data"
    }
   ],
   "source": [
    "raptors.cx[:-104.5, 39.5:].plot()"
   ]
  },
  {
   "cell_type": "code",
   "execution_count": 12,
   "metadata": {
    "scrolled": true
   },
   "outputs": [
    {
     "data": {
      "text/plain": [
       "<AxesSubplot:>"
      ]
     },
     "execution_count": 12,
     "metadata": {},
     "output_type": "execute_result"
    },
    {
     "data": {
      "image/png": "[encoded data removed]",
      "text/plain": [
       "<Figure size 432x288 with 1 Axes>"
      ]
     },
     "metadata": {
      "needs_background": "light"
     },
     "output_type": "display_data"
    }
   ],
   "source": [
    "raptors = raptors.cx[:-104.3, 39.5:40.6]\n",
    "raptors.plot()"
   ]
  },
  {
   "cell_type": "code",
   "execution_count": 11,
   "metadata": {
    "scrolled": false
   },
   "outputs": [
    {
     "data": {
      "image/png": "[encoded data removed]",
      "text/plain": [
       "<Figure size 432x288 with 1 Axes>"
      ]
     },
     "metadata": {
      "needs_background": "light"
     },
     "output_type": "display_data"
    },
    {
     "data": {
      "image/png": "[encoded data removed]",
      "text/plain": [
       "<Figure size 432x288 with 1 Axes>"
      ]
     },
     "metadata": {
      "needs_background": "light"
     },
     "output_type": "display_data"
    },
    {
     "data": {
      "image/png": "[encoded data removed]",
      "text/plain": [
       "<Figure size 432x288 with 1 Axes>"
      ]
     },
     "metadata": {
      "needs_background": "light"
     },
     "output_type": "display_data"
    }
   ],
   "source": [
    "y_min=raptors[\"lat_y_dd\"].min()\n",
    "y_max=raptors[\"lat_y_dd\"].max()\n",
    "y_step = (y_max-y_min)/3\n",
    "for i in range(3):\n",
    "    raptors.cx[:, y_min + i*y_step:y_min + (i+1)*y_step].plot()\n",
    "    "
   ]
  },
  {
   "cell_type": "code",
   "execution_count": 13,
   "metadata": {
    "scrolled": true
   },
   "outputs": [
    {
     "data": {
      "image/png": "[encoded data removed]",
      "text/plain": [
       "<Figure size 432x288 with 1 Axes>"
      ]
     },
     "metadata": {
      "needs_background": "light"
     },
     "output_type": "display_data"
    },
    {
     "data": {
      "image/png": "[encoded data removed]",
      "text/plain": [
       "<Figure size 432x288 with 1 Axes>"
      ]
     },
     "metadata": {
      "needs_background": "light"
     },
     "output_type": "display_data"
    },
    {
     "data": {
      "image/png": "[encoded data removed]",
      "text/plain": [
       "<Figure size 432x288 with 1 Axes>"
      ]
     },
     "metadata": {
      "needs_background": "light"
     },
     "output_type": "display_data"
    },
    {
     "data": {
      "image/png": "[encoded data removed]",
      "text/plain": [
       "<Figure size 432x288 with 1 Axes>"
      ]
     },
     "metadata": {
      "needs_background": "light"
     },
     "output_type": "display_data"
    },
    {
     "data": {
      "image/png": "[encoded data removed]",
      "text/plain": [
       "<Figure size 432x288 with 1 Axes>"
      ]
     },
     "metadata": {
      "needs_background": "light"
     },
     "output_type": "display_data"
    },
    {
     "data": {
      "image/png": "[encoded data removed]",
      "text/plain": [
       "<Figure size 432x288 with 1 Axes>"
      ]
     },
     "metadata": {
      "needs_background": "light"
     },
     "output_type": "display_data"
    },
    {
     "data": {
      "image/png": "[encoded data removed]",
      "text/plain": [
       "<Figure size 432x288 with 1 Axes>"
      ]
     },
     "metadata": {
      "needs_background": "light"
     },
     "output_type": "display_data"
    },
    {
     "data": {
      "image/png": "[encoded data removed]",
      "text/plain": [
       "<Figure size 432x288 with 1 Axes>"
      ]
     },
     "metadata": {
      "needs_background": "light"
     },
     "output_type": "display_data"
    },
    {
     "data": {
      "image/png": "[encoded data removed]",
      "text/plain": [
       "<Figure size 432x288 with 1 Axes>"
      ]
     },
     "metadata": {
      "needs_background": "light"
     },
     "output_type": "display_data"
    }
   ],
   "source": [
    "y_min=raptors[\"lat_y_dd\"].min()\n",
    "y_max=raptors[\"lat_y_dd\"].max()\n",
    "y_step = (y_max-y_min)/3\n",
    "x_min=raptors[\"long_x_dd\"].min()\n",
    "x_max=raptors[\"long_x_dd\"].max()\n",
    "x_step = (x_max-x_min)/3\n",
    "for y in range(3):\n",
    "    for x in range(3):\n",
    "        raptors.cx[x_min + x*x_step:x_min + (x+1)*x_step, y_min + y*y_step:y_min + (y+1)*y_step].plot()"
   ]
  },
  {
   "cell_type": "markdown",
   "metadata": {},
   "source": [
    "\n",
    "\n",
    "## Referencing cell values with loc, iloc, and at\n",
    "\n",
    "### loc - referencing by column and row index values"
   ]
  },
  {
   "cell_type": "code",
   "execution_count": null,
   "metadata": {
    "scrolled": true
   },
   "outputs": [],
   "source": [
    "raptors.columns"
   ]
  },
  {
   "cell_type": "code",
   "execution_count": null,
   "metadata": {
    "scrolled": true
   },
   "outputs": [],
   "source": [
    "raptors.index"
   ]
  },
  {
   "cell_type": "code",
   "execution_count": null,
   "metadata": {
    "scrolled": true
   },
   "outputs": [],
   "source": [
    "raptors"
   ]
  },
  {
   "cell_type": "code",
   "execution_count": null,
   "metadata": {
    "scrolled": true
   },
   "outputs": [],
   "source": [
    "raptors.loc[877, 'lastsurvey']"
   ]
  },
  {
   "cell_type": "code",
   "execution_count": null,
   "metadata": {
    "scrolled": true
   },
   "outputs": [],
   "source": [
    "raptors.loc[3:10, 'lastsurvey':'Nest_ID']"
   ]
  },
  {
   "cell_type": "code",
   "execution_count": null,
   "metadata": {
    "scrolled": true
   },
   "outputs": [],
   "source": [
    "raptors.loc[[10, 3, 5], ['Nest_ID', 'lat_y_dd', 'recentspec']]"
   ]
  },
  {
   "cell_type": "code",
   "execution_count": null,
   "metadata": {
    "scrolled": true
   },
   "outputs": [],
   "source": [
    "for row in raptors.index:\n",
    "    for col in raptors.columns:\n",
    "        print(row, col, raptors.loc[row, col])"
   ]
  },
  {
   "cell_type": "markdown",
   "metadata": {},
   "source": [
    "### iloc - referencing by integers\n",
    "\n",
    "shape property returns a tuple with the number of rows and columns"
   ]
  },
  {
   "cell_type": "code",
   "execution_count": null,
   "metadata": {
    "scrolled": true
   },
   "outputs": [],
   "source": [
    "raptors.shape"
   ]
  },
  {
   "cell_type": "code",
   "execution_count": null,
   "metadata": {
    "scrolled": true
   },
   "outputs": [],
   "source": [
    "raptors.iloc[861, 4]"
   ]
  },
  {
   "cell_type": "code",
   "execution_count": null,
   "metadata": {
    "scrolled": true
   },
   "outputs": [],
   "source": [
    "raptors.iloc[100:200, 2:4]"
   ]
  },
  {
   "cell_type": "code",
   "execution_count": null,
   "metadata": {
    "scrolled": true
   },
   "outputs": [],
   "source": [
    "raptors.iloc[[103, 197, 200], [1, 2, 5]]"
   ]
  },
  {
   "cell_type": "code",
   "execution_count": null,
   "metadata": {
    "scrolled": true
   },
   "outputs": [],
   "source": [
    "for x in range(raptors.shape[0]):\n",
    "    for y in range(raptors.shape[1]):\n",
    "        print(x, y, raptors.iloc[x,y])"
   ]
  },
  {
   "cell_type": "markdown",
   "metadata": {},
   "source": [
    "### at and iat - referencing single cell\n",
    "\n",
    "Similar to loc and iloc but can only be used to reference a single cell\n",
    "\n",
    "Values can be assigned"
   ]
  },
  {
   "cell_type": "code",
   "execution_count": null,
   "metadata": {
    "scrolled": true
   },
   "outputs": [],
   "source": [
    "for x in range(raptors.shape[0]):\n",
    "    for y in range(raptors.shape[1]):\n",
    "        print(x, y, raptors.iat[x,y])"
   ]
  },
  {
   "cell_type": "code",
   "execution_count": null,
   "metadata": {
    "scrolled": true
   },
   "outputs": [],
   "source": [
    "raptors.iat[200, 4]"
   ]
  },
  {
   "cell_type": "code",
   "execution_count": null,
   "metadata": {
    "scrolled": true
   },
   "outputs": [],
   "source": [
    "raptors['recentspec'].unique()"
   ]
  },
  {
   "cell_type": "code",
   "execution_count": null,
   "metadata": {
    "scrolled": true
   },
   "outputs": [],
   "source": [
    "raptors.iat[200,4] = \"Great Blue Heron\"\n",
    "raptors.iat[200,4]"
   ]
  },
  {
   "cell_type": "code",
   "execution_count": null,
   "metadata": {
    "scrolled": true
   },
   "outputs": [],
   "source": [
    "raptors['recentspec'].unique()"
   ]
  },
  {
   "cell_type": "markdown",
   "metadata": {},
   "source": [
    "## Series Math"
   ]
  },
  {
   "cell_type": "code",
   "execution_count": null,
   "metadata": {
    "scrolled": true
   },
   "outputs": [],
   "source": [
    "raptors['long_x_dd']/raptors['lat_y_dd']"
   ]
  },
  {
   "cell_type": "markdown",
   "metadata": {},
   "source": [
    "### Creating a new column"
   ]
  },
  {
   "cell_type": "code",
   "execution_count": null,
   "metadata": {
    "scrolled": true
   },
   "outputs": [],
   "source": [
    "raptors['long_plus_lat'] = raptors['long_x_dd']+raptors['lat_y_dd']"
   ]
  },
  {
   "cell_type": "code",
   "execution_count": null,
   "metadata": {
    "scrolled": true
   },
   "outputs": [],
   "source": [
    "raptors"
   ]
  },
  {
   "cell_type": "markdown",
   "metadata": {},
   "source": [
    "### dropping a row"
   ]
  },
  {
   "cell_type": "code",
   "execution_count": null,
   "metadata": {
    "scrolled": true
   },
   "outputs": [],
   "source": [
    "raptors"
   ]
  },
  {
   "cell_type": "code",
   "execution_count": null,
   "metadata": {
    "scrolled": true
   },
   "outputs": [],
   "source": [
    "raptors.drop(877, inplace=True)"
   ]
  },
  {
   "cell_type": "markdown",
   "metadata": {},
   "source": [
    "### dropping a column"
   ]
  },
  {
   "cell_type": "code",
   "execution_count": null,
   "metadata": {
    "scrolled": true
   },
   "outputs": [],
   "source": [
    "raptors.drop('long_plus_lat', axis=1, inplace=True)"
   ]
  },
  {
   "cell_type": "markdown",
   "metadata": {},
   "source": [
    "## Choosing a column to use as an index"
   ]
  },
  {
   "cell_type": "code",
   "execution_count": null,
   "metadata": {
    "scrolled": true
   },
   "outputs": [],
   "source": [
    "raptors.set_index('Nest_ID', verify_integrity=True, inplace=True)"
   ]
  },
  {
   "cell_type": "code",
   "execution_count": null,
   "metadata": {
    "scrolled": true
   },
   "outputs": [],
   "source": [
    "raptors.drop(1002, inplace=True)"
   ]
  },
  {
   "cell_type": "code",
   "execution_count": null,
   "metadata": {
    "scrolled": true
   },
   "outputs": [],
   "source": [
    "raptors"
   ]
  },
  {
   "cell_type": "code",
   "execution_count": null,
   "metadata": {
    "scrolled": true
   },
   "outputs": [],
   "source": [
    "raptors.sort_values(['recentspec', 'recentstat', 'lastsurvey'], ascending=[True, True, False])"
   ]
  },
  {
   "cell_type": "code",
   "execution_count": null,
   "metadata": {},
   "outputs": [],
   "source": []
  }
 ],
 "metadata": {
  "kernelspec": {
   "display_name": "Python 3",
   "language": "python",
   "name": "python3"
  },
  "language_info": {
   "codemirror_mode": {
    "name": "ipython",
    "version": 3
   },
   "file_extension": ".py",
   "mimetype": "text/x-python",
   "name": "python",
   "nbconvert_exporter": "python",
   "pygments_lexer": "ipython3",
   "version": "3.8.5"
  }
 },
 "nbformat": 4,
 "nbformat_minor": 4
}
